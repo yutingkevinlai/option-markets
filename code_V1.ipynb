{
 "cells": [
  {
   "cell_type": "code",
   "execution_count": 22,
   "metadata": {},
   "outputs": [],
   "source": [
    "from yahoo_fin import options\n",
    "import threading \n",
    "import multiprocessing\n",
    "from time import time\n",
    "from concurrent.futures import ThreadPoolExecutor, as_completed\n",
    "import itertools  \n",
    "from itertools import zip_longest\n",
    "import concurrent.futures\n",
    "import yahoo_fin\n",
    "import yfinance as yf\n",
    "from wallstreet import Stock, Call, Put\n",
    "import wallstreet\n",
    "from get_all_tickers import get_tickers as gt\n",
    "from get_all_tickers.get_tickers import Region"
   ]
  },
  {
   "cell_type": "code",
   "execution_count": 23,
   "metadata": {},
   "outputs": [],
   "source": [
    "def grouper(iterable, n, fillvalue=None):\n",
    "    \"Collect data into fixed-length chunks or blocks\"\n",
    "    # grouper('ABCDEFG', 3, 'x') --> ABC DEF Gxx\"\n",
    "    args = [iter(iterable)] * n\n",
    "    return zip_longest(*args, fillvalue=fillvalue)"
   ]
  },
  {
   "cell_type": "code",
   "execution_count": 24,
   "metadata": {},
   "outputs": [],
   "source": [
    "def infos( udlying,day,month,year,stockprice, offset):\n",
    "    u = Call(udlying, d=day, m=month, y=year, strike=stockprice+offset)\n",
    "    price = u.price\n",
    "    IV = u.implied_volatility()\n",
    "    v = u.vega()\n",
    "    g = u.gamma()\n",
    "    strike = u.strike\n",
    "    return (IV,v,g,price,strike)\n",
    "\n",
    "def moves(DTern,DTE,IV,IVn,v,g,price_move,offset):\n",
    "    IV_AE = ((DTern/(DTern+DTE))*IV**2 + (DTE/(DTern+DTE))*IVn**2)**0.5\n",
    "    vega_change = v*(IV_AE-IV)*100\n",
    "    gamma_change = 0.5*g*(price_move+offset)**2\n",
    "    return (IV_AE,vega_change,gamma_change)"
   ]
  },
  {
   "cell_type": "code",
   "execution_count": 42,
   "metadata": {},
   "outputs": [],
   "source": [
    "optionable_list=[]\n",
    "def find_optionable_stocks(udlying):\n",
    "    g = options.get_expiration_dates(udlying)\n",
    "    if len(g) != 0:\n",
    "        print(udlying)\n",
    "        optionable_list.append(udlying)\n",
    "\n",
    "# def find_optionable_stocks(udlying):\n",
    "#     g = Put(udlying).expirations\n",
    "#     if len(g) != 0:\n",
    "#         optionable_list.append(udlying)"
   ]
  },
  {
   "cell_type": "code",
   "execution_count": 43,
   "metadata": {
    "scrolled": true
   },
   "outputs": [
    {
     "name": "stdout",
     "output_type": "stream",
     "text": [
      "YQ\n",
      "4013\n",
      "[]\n",
      "Time taken: 1.0499517917633057\n"
     ]
    }
   ],
   "source": [
    "list_of_tickers = gt.get_tickers_by_region(Region.NORTH_AMERICA)\n",
    "print(list_of_tickers[3])\n",
    "print(len(list_of_tickers))\n",
    "\n",
    "max_price = 200\n",
    "min_price = 50\n",
    "num_stocks = 10\n",
    "#optionable_list = find_optionable_stocks(list_of_tickers, num_stock)\n",
    "       \n",
    "\n",
    "\n",
    "processes = []\n",
    "start = time()\n",
    "with ThreadPoolExecutor(max_workers=100) as executor:\n",
    "    for udlying in list_of_tickers[1:100]:\n",
    "        processes.append(executor.submit(find_optionable_stocks, udlying))\n",
    "        \n",
    "print(optionable_list)\n",
    "print(f'Time taken: {time() - start}')\n"
   ]
  },
  {
   "cell_type": "code",
   "execution_count": 21,
   "metadata": {},
   "outputs": [
    {
     "name": "stdout",
     "output_type": "stream",
     "text": [
      "[]\n"
     ]
    }
   ],
   "source": []
  },
  {
   "cell_type": "code",
   "execution_count": null,
   "metadata": {},
   "outputs": [],
   "source": []
  }
 ],
 "metadata": {
  "kernelspec": {
   "display_name": "Python 3",
   "language": "python",
   "name": "python3"
  },
  "language_info": {
   "codemirror_mode": {
    "name": "ipython",
    "version": 3
   },
   "file_extension": ".py",
   "mimetype": "text/x-python",
   "name": "python",
   "nbconvert_exporter": "python",
   "pygments_lexer": "ipython3",
   "version": "3.7.4"
  }
 },
 "nbformat": 4,
 "nbformat_minor": 2
}
